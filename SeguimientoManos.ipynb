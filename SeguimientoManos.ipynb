{
 "cells": [
  {
   "cell_type": "code",
   "execution_count": 1,
   "id": "6e5943ba",
   "metadata": {},
   "outputs": [],
   "source": [
    "#!pip install mediapipe==0.10.8 --user"
   ]
  },
  {
   "cell_type": "code",
   "execution_count": 2,
   "id": "353df0e5",
   "metadata": {},
   "outputs": [],
   "source": [
    "import math\n",
    "import cv2\n",
    "import mediapipe as mp\n",
    "import time"
   ]
  },
  {
   "cell_type": "code",
   "execution_count": 3,
   "id": "d9f259fe",
   "metadata": {},
   "outputs": [],
   "source": [
    "class detectormanos():\n",
    "    #Inicializar parametros de detección\n",
    "    def __init__(self, mode=False, maxManos = 2, model_complexity=1, Confdeteccion = 0.5, Confsegui = 0.5):\n",
    "        self.mode = mode          #Creamos el objeto y el tendra su propia variable\n",
    "        self.maxManos = maxManos  #Lo mismo haremos con todos los objetos\n",
    "        self.compl = model_complexity\n",
    "        self.Confdeteccion = Confdeteccion\n",
    "        self.Confsegui = Confsegui\n",
    "\n",
    "        #Parametros que dibujan y detectan mano\n",
    "        self.mpmanos = mp.solutions.hands #Detecta la mano\n",
    "        self.manos = self.mpmanos.Hands(self.mode, self.maxManos, self.compl, self.Confdeteccion, self.Confsegui)#Bajo estos parametros\n",
    "        self.dibujo = mp.solutions.drawing_utils #Dibuja lo que necesitamos\n",
    "        self.tip = [4,8,12,16,20]  #son los puntos claves para detectar las puntas de los dedos\n",
    "\n",
    " #Con esta funcion tomamos frame para detectar la mano en ese instante---\n",
    "    def encontrarmanos(self, frame, dibujar = True ):\n",
    "        imgcolor = cv2.cvtColor(frame, cv2.COLOR_BGR2RGB)\n",
    "        self.resultados = self.manos.process(imgcolor) #Hacemos la deteccion en el frame que mandamos\n",
    "\n",
    "        if self.resultados.multi_hand_landmarks: #Observamos si hay algo en la deteccion\n",
    "            for mano in self.resultados.multi_hand_landmarks:  #Si hay entramos a este for (Nuestro maximo de manos es 2)\n",
    "                if dibujar:\n",
    "                    self.dibujo.draw_landmarks(frame, mano, self.mpmanos.HAND_CONNECTIONS)  # Dibujamos las conexiones de los puntos\n",
    "        return frame\n",
    "\n",
    "  #Guardamos coordenadas x y de todos los puntos de las manos\n",
    "    def encontrarposicion(self, frame, ManoNum = 0, dibujar = True, color = []):\n",
    "        xlista = []\n",
    "        ylista = []\n",
    "        bbox = []\n",
    "        player = 0\n",
    "        self.lista = []  #lista para guardar las coordenadas\n",
    "        if self.resultados.multi_hand_landmarks:#Si detectamos algo \n",
    "            miMano = self.resultados.multi_hand_landmarks[ManoNum]\n",
    "            prueba = self.resultados.multi_hand_landmarks\n",
    "            player = len(prueba)\n",
    " \n",
    "            for id, lm in enumerate(miMano.landmark):\n",
    "                alto, ancho, c = frame.shape   #Extraemos dimensiones de los frames\n",
    "                cx, cy = int(lm.x * ancho), int(lm.y * alto)  # Convertimos la informacion en pixeles\n",
    "                xlista.append(cx)\n",
    "                ylista.append(cy)\n",
    "                self.lista.append([id, cx, cy]) #Guardamos en la lista las coordenadas en pixeles de x e y, de cada nodo de la mano id=Nodo\n",
    "                if dibujar:\n",
    "                    cv2.circle(frame,(cx, cy), 3, (0, 0, 0), cv2.FILLED)  # Dibujamos un circulo en cada nodo\n",
    "\n",
    "            xmin, xmax = min(xlista), max(xlista) #Tomamos los valores maximos y minimos de x \n",
    "            ymin, ymax = min(ylista), max(ylista) #Tomamos los valores maximos y minimos de  y\n",
    "            bbox = xmin, ymin, xmax, ymax #Con esas coordenadas hacemos una caja\n",
    "            if dibujar:\n",
    "                # Con base a eso dibujamos un cuadro\n",
    "                cv2.rectangle(frame,(xmin - 20, ymin - 20), (xmax + 20, ymax + 20), color,2)\n",
    "        return self.lista, bbox, player"
   ]
  },
  {
   "cell_type": "code",
   "execution_count": null,
   "id": "0192e172",
   "metadata": {},
   "outputs": [],
   "source": []
  }
 ],
 "metadata": {
  "kernelspec": {
   "display_name": "Python 3 (ipykernel)",
   "language": "python",
   "name": "python3"
  },
  "language_info": {
   "codemirror_mode": {
    "name": "ipython",
    "version": 3
   },
   "file_extension": ".py",
   "mimetype": "text/x-python",
   "name": "python",
   "nbconvert_exporter": "python",
   "pygments_lexer": "ipython3",
   "version": "3.9.12"
  }
 },
 "nbformat": 4,
 "nbformat_minor": 5
}
